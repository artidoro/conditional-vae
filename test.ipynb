{
 "cells": [
  {
   "cell_type": "code",
   "execution_count": 1,
   "metadata": {},
   "outputs": [],
   "source": [
    "% load_ext autoreload\n",
    "% autoreload 2"
   ]
  },
  {
   "cell_type": "code",
   "execution_count": 7,
   "metadata": {},
   "outputs": [],
   "source": [
    "import utils\n",
    "import train\n",
    "import cvae"
   ]
  },
  {
   "cell_type": "code",
   "execution_count": 8,
   "metadata": {},
   "outputs": [],
   "source": [
    "train_iter, val_iter, test, DE, EN = utils.torchtext_extract()"
   ]
  },
  {
   "cell_type": "code",
   "execution_count": 12,
   "metadata": {},
   "outputs": [],
   "source": [
    "model_name = \"test\"\n",
    "\n",
    "gpu = True\n",
    "\n",
    "num_layers = 2\n",
    "embed_size = 100\n",
    "hidden_size = 100\n",
    "latent_size = 100\n",
    "\n",
    "num_epochs=10\n",
    "\n",
    "anneal = utils.kl_anneal_linear\n",
    "\n",
    "eos = EN.vocab.stoi[\"</s>\"]\n",
    "bos = EN.vocab.stoi[\"<s>\"]\n",
    "pad = EN.vocab.stoi[\"<pad>\"]\n",
    "\n",
    "filter_beam = [pad, bos]"
   ]
  },
  {
   "cell_type": "code",
   "execution_count": 13,
   "metadata": {},
   "outputs": [
    {
     "name": "stderr",
     "output_type": "stream",
     "text": [
      "/home/artidoro/.local/lib/python3.5/site-packages/torch/backends/cudnn/__init__.py:84: UserWarning: PyTorch was compiled without cuDNN support. To use cuDNN, rebuild PyTorch making sure the library is visible to the build system.\n",
      "  \"PyTorch was compiled without cuDNN support. To use cuDNN, rebuild \"\n"
     ]
    }
   ],
   "source": [
    "model = cvae.CVAE(len(DE.vocab), len(EN.vocab), embed_size, hidden_size, latent_size, num_layers)\n",
    "if gpu:\n",
    "    model.cuda()"
   ]
  },
  {
   "cell_type": "code",
   "execution_count": 14,
   "metadata": {
    "scrolled": true
   },
   "outputs": [
    {
     "name": "stderr",
     "output_type": "stream",
     "text": [
      "\n",
      "  0%|          | 0/3722 [00:00<?, ?it/s]\u001b[A/home/artidoro/.local/lib/python3.5/site-packages/torch/backends/cudnn/__init__.py:84: UserWarning: PyTorch was compiled without cuDNN support. To use cuDNN, rebuild PyTorch making sure the library is visible to the build system.\n",
      "  \"PyTorch was compiled without cuDNN support. To use cuDNN, rebuild \"\n",
      "\n",
      "  0%|          | 1/3722 [00:00<15:52,  3.90it/s]\u001b[A\n",
      "  0%|          | 3/3722 [00:00<09:09,  6.77it/s]\u001b[A\n",
      "  0%|          | 5/3722 [00:00<07:18,  8.48it/s]\u001b[A\n",
      "  0%|          | 7/3722 [00:00<06:44,  9.19it/s]\u001b[A\n",
      "  0%|          | 9/3722 [00:00<06:31,  9.48it/s]\u001b[A\n",
      "  0%|          | 11/3722 [00:01<06:08, 10.08it/s]\u001b[A\n",
      "  0%|          | 13/3722 [00:01<05:58, 10.36it/s]\u001b[A\n",
      "  0%|          | 15/3722 [00:01<05:46, 10.71it/s]\u001b[A\n",
      "  0%|          | 17/3722 [00:01<05:41, 10.86it/s]\u001b[A\n",
      "  1%|          | 19/3722 [00:01<05:31, 11.19it/s]\u001b[A\n",
      "  1%|          | 22/3722 [00:01<05:11, 11.88it/s]\u001b[A\n",
      "  1%|          | 24/3722 [00:01<05:07, 12.04it/s]\u001b[A\n",
      "  1%|          | 26/3722 [00:02<05:03, 12.17it/s]\u001b[A\n",
      "  1%|          | 28/3722 [00:02<05:03, 12.18it/s]\u001b[A\n",
      "  1%|          | 30/3722 [00:02<04:58, 12.39it/s]\u001b[A\n",
      "  1%|          | 32/3722 [00:02<04:53, 12.56it/s]\u001b[A\n",
      "  1%|          | 34/3722 [00:02<04:49, 12.75it/s]\u001b[A\n",
      "  1%|          | 36/3722 [00:02<04:45, 12.93it/s]\u001b[A\n",
      "  1%|          | 38/3722 [00:02<04:43, 13.00it/s]\u001b[A\n",
      "  1%|          | 40/3722 [00:03<04:42, 13.04it/s]\u001b[A\n",
      "  1%|          | 42/3722 [00:03<04:41, 13.09it/s]\u001b[A\n",
      "  1%|          | 44/3722 [00:03<04:39, 13.17it/s]\u001b[A\n",
      "  1%|          | 46/3722 [00:03<04:35, 13.32it/s]\u001b[A\n",
      "  1%|▏         | 48/3722 [00:03<04:36, 13.28it/s]\u001b[A\n",
      "  1%|▏         | 50/3722 [00:03<04:36, 13.27it/s]\u001b[A\n",
      "  1%|▏         | 52/3722 [00:03<04:41, 13.01it/s]\u001b[A\n",
      "  1%|▏         | 54/3722 [00:04<04:40, 13.08it/s]\u001b[A\n",
      "  2%|▏         | 56/3722 [00:04<04:41, 13.04it/s]\u001b[A\n",
      "  2%|▏         | 58/3722 [00:04<04:40, 13.06it/s]\u001b[A\n",
      "  2%|▏         | 60/3722 [00:04<04:37, 13.17it/s]\u001b[A\n",
      "  2%|▏         | 62/3722 [00:04<04:36, 13.22it/s]\u001b[A\n",
      "  2%|▏         | 64/3722 [00:04<04:37, 13.19it/s]\u001b[A\n",
      "  2%|▏         | 66/3722 [00:04<04:36, 13.21it/s]\u001b[A\n",
      "  2%|▏         | 68/3722 [00:05<04:35, 13.24it/s]\u001b[A\n",
      "  2%|▏         | 70/3722 [00:05<04:35, 13.28it/s]\u001b[A\n",
      "  2%|▏         | 72/3722 [00:05<04:34, 13.28it/s]\u001b[A\n",
      "  2%|▏         | 74/3722 [00:05<04:33, 13.33it/s]\u001b[A\n",
      "  2%|▏         | 76/3722 [00:05<04:33, 13.32it/s]\u001b[A\n",
      "  2%|▏         | 78/3722 [00:05<04:32, 13.37it/s]\u001b[A\n",
      "  2%|▏         | 80/3722 [00:05<04:30, 13.46it/s]\u001b[A\n",
      "  2%|▏         | 82/3722 [00:06<04:31, 13.40it/s]\u001b[A\n",
      " 77%|███████▋  | 2861/3722 [04:00<01:12, 11.91it/s]A\n",
      "Exception in thread Thread-21:\n",
      "Traceback (most recent call last):\n",
      "  File \"/usr/lib/python3.5/threading.py\", line 914, in _bootstrap_inner\n",
      "    self.run()\n",
      "  File \"/usr/local/lib/python3.5/dist-packages/tqdm/_tqdm.py\", line 144, in run\n",
      "    for instance in self.tqdm_cls._instances:\n",
      "  File \"/usr/lib/python3.5/_weakrefset.py\", line 60, in __iter__\n",
      "    for itemref in self.data:\n",
      "RuntimeError: Set changed size during iteration\n",
      "\n",
      "100%|██████████| 3722/3722 [04:42<00:00, 13.15it/s]\n",
      "  0%|          | 0/18 [00:00<?, ?it/s]/usr/local/lib/python3.5/dist-packages/torchtext/data/field.py:321: UserWarning: volatile was removed and now has no effect. Use `with torch.no_grad():` instead.\n",
      "  return Variable(arr, volatile=not train)\n",
      "100%|██████████| 18/18 [00:00<00:00, 42.73it/s]\n",
      "  0%|          | 0/3722 [00:00<?, ?it/s]"
     ]
    },
    {
     "name": "stdout",
     "output_type": "stream",
     "text": [
      "Epoch: 1\n",
      "\tVPB: 3633294462875470694976143977343966328630745623371236435415267099998078883635780947449886825545394647424709337046093125638477267000027091501870338978428747776.0000 VNELBO: 360.4934 VRE: 3.5828 TKL: 356.9106\n",
      "\tTPB: 250084618651873548511334945634931744296446569770239460015068578680429814893687720694379619737590244452804482529460859739045888.0000 TNELBO: 288.7398 TRE: 4.3760 VKL: 284.3638\n"
     ]
    },
    {
     "name": "stderr",
     "output_type": "stream",
     "text": [
      "100%|██████████| 3722/3722 [05:39<00:00, 10.97it/s]\n",
      "100%|██████████| 18/18 [00:00<00:00, 44.31it/s]\n",
      "  0%|          | 1/3722 [00:00<11:51,  5.23it/s]"
     ]
    },
    {
     "name": "stdout",
     "output_type": "stream",
     "text": [
      "Epoch: 2\n",
      "\tVPB: 37.3938 VNELBO: 3.6215 VRE: 3.3200 TKL: 0.3015\n",
      "\tTPB: 79.1515 TNELBO: 4.3714 TRE: 3.6399 VKL: 0.7314\n"
     ]
    },
    {
     "name": "stderr",
     "output_type": "stream",
     "text": [
      "100%|██████████| 3722/3722 [05:29<00:00, 11.30it/s]\n",
      "100%|██████████| 18/18 [00:00<00:00, 42.48it/s]\n",
      "  0%|          | 0/3722 [00:00<?, ?it/s]"
     ]
    },
    {
     "name": "stdout",
     "output_type": "stream",
     "text": [
      "Epoch: 3\n",
      "\tVPB: 23.2119 VNELBO: 3.1447 VRE: 3.1107 TKL: 0.0339\n",
      "\tTPB: 28.9113 TNELBO: 3.3642 TRE: 3.2772 VKL: 0.0870\n"
     ]
    },
    {
     "name": "stderr",
     "output_type": "stream",
     "text": [
      "100%|██████████| 3722/3722 [05:33<00:00, 11.15it/s]\n",
      "100%|██████████| 18/18 [00:00<00:00, 39.90it/s]\n",
      "  0%|          | 0/3722 [00:00<?, ?it/s]"
     ]
    },
    {
     "name": "stdout",
     "output_type": "stream",
     "text": [
      "Epoch: 4\n",
      "\tVPB: 20.6724 VNELBO: 3.0288 VRE: 3.0125 TKL: 0.0163\n",
      "\tTPB: 21.8779 TNELBO: 3.0855 TRE: 3.0312 VKL: 0.0543\n"
     ]
    },
    {
     "name": "stderr",
     "output_type": "stream",
     "text": [
      "100%|██████████| 3722/3722 [05:33<00:00, 11.17it/s]\n",
      "100%|██████████| 18/18 [00:00<00:00, 42.99it/s]\n",
      "  0%|          | 0/3722 [00:00<?, ?it/s]"
     ]
    },
    {
     "name": "stdout",
     "output_type": "stream",
     "text": [
      "Epoch: 5\n",
      "\tVPB: 19.4105 VNELBO: 2.9658 VRE: 2.9422 TKL: 0.0237\n",
      "\tTPB: 18.1421 TNELBO: 2.8982 TRE: 2.8522 VKL: 0.0461\n"
     ]
    },
    {
     "name": "stderr",
     "output_type": "stream",
     "text": [
      "100%|██████████| 3722/3722 [05:18<00:00, 11.67it/s]\n",
      "100%|██████████| 18/18 [00:00<00:00, 41.90it/s]\n",
      "  0%|          | 0/3722 [00:00<?, ?it/s]"
     ]
    },
    {
     "name": "stdout",
     "output_type": "stream",
     "text": [
      "Epoch: 6\n",
      "\tVPB: 18.4661 VNELBO: 2.9159 VRE: 2.9017 TKL: 0.0142\n",
      "\tTPB: 15.6586 TNELBO: 2.7510 TRE: 2.7145 VKL: 0.0365\n"
     ]
    },
    {
     "name": "stderr",
     "output_type": "stream",
     "text": [
      "100%|██████████| 3722/3722 [05:33<00:00, 11.16it/s]\n",
      "100%|██████████| 18/18 [00:00<00:00, 41.88it/s]\n",
      "  0%|          | 0/3722 [00:00<?, ?it/s]"
     ]
    },
    {
     "name": "stdout",
     "output_type": "stream",
     "text": [
      "Epoch: 7\n",
      "\tVPB: 18.2035 VNELBO: 2.9016 VRE: 2.8885 TKL: 0.0131\n",
      "\tTPB: 13.9990 TNELBO: 2.6390 TRE: 2.6059 VKL: 0.0331\n"
     ]
    },
    {
     "name": "stderr",
     "output_type": "stream",
     "text": [
      "100%|██████████| 3722/3722 [05:33<00:00, 11.16it/s]\n",
      "100%|██████████| 18/18 [00:00<00:00, 38.94it/s]\n",
      "  0%|          | 0/3722 [00:00<?, ?it/s]"
     ]
    },
    {
     "name": "stdout",
     "output_type": "stream",
     "text": [
      "Epoch: 8\n",
      "\tVPB: 17.4759 VNELBO: 2.8608 VRE: 2.8487 TKL: 0.0121\n",
      "\tTPB: 12.8057 TNELBO: 2.5499 TRE: 2.5184 VKL: 0.0315\n"
     ]
    },
    {
     "name": "stderr",
     "output_type": "stream",
     "text": [
      "100%|██████████| 3722/3722 [05:12<00:00, 11.92it/s]\n",
      "100%|██████████| 18/18 [00:00<00:00, 39.54it/s]\n",
      "  0%|          | 0/3722 [00:00<?, ?it/s]"
     ]
    },
    {
     "name": "stdout",
     "output_type": "stream",
     "text": [
      "Epoch: 9\n",
      "\tVPB: 23.5827 VNELBO: 3.1605 VRE: 2.8453 TKL: 0.3152\n",
      "\tTPB: 11.9269 TNELBO: 2.4788 TRE: 2.4458 VKL: 0.0330\n"
     ]
    },
    {
     "name": "stderr",
     "output_type": "stream",
     "text": [
      "100%|██████████| 3722/3722 [05:32<00:00, 11.21it/s]\n",
      "100%|██████████| 18/18 [00:00<00:00, 41.82it/s]"
     ]
    },
    {
     "name": "stdout",
     "output_type": "stream",
     "text": [
      "Epoch: 10\n",
      "\tVPB: 21.1342 VNELBO: 3.0509 VRE: 2.8447 TKL: 0.2062\n",
      "\tTPB: 11.1089 TNELBO: 2.4077 TRE: 2.3836 VKL: 0.0241\n"
     ]
    },
    {
     "name": "stderr",
     "output_type": "stream",
     "text": [
      "\n"
     ]
    }
   ],
   "source": [
    "train.train(model,model_name, train_iter, val_iter, DE, EN, anneal, num_epochs, gpu)"
   ]
  },
  {
   "cell_type": "code",
   "execution_count": null,
   "metadata": {},
   "outputs": [],
   "source": [
    "val_perp = utils.eval_vae(model, val_iter, pad, gpu=gpu)\n",
    "print(val_perp)"
   ]
  },
  {
   "cell_type": "code",
   "execution_count": null,
   "metadata": {},
   "outputs": [],
   "source": [
    "EN.vocab.stoi['</s>']"
   ]
  },
  {
   "cell_type": "code",
   "execution_count": null,
   "metadata": {
    "scrolled": true
   },
   "outputs": [],
   "source": []
  },
  {
   "cell_type": "code",
   "execution_count": null,
   "metadata": {},
   "outputs": [],
   "source": []
  },
  {
   "cell_type": "code",
   "execution_count": null,
   "metadata": {},
   "outputs": [],
   "source": []
  },
  {
   "cell_type": "code",
   "execution_count": null,
   "metadata": {},
   "outputs": [],
   "source": []
  },
  {
   "cell_type": "code",
   "execution_count": null,
   "metadata": {},
   "outputs": [],
   "source": []
  },
  {
   "cell_type": "code",
   "execution_count": null,
   "metadata": {},
   "outputs": [],
   "source": []
  },
  {
   "cell_type": "code",
   "execution_count": null,
   "metadata": {},
   "outputs": [],
   "source": []
  }
 ],
 "metadata": {
  "kernelspec": {
   "display_name": "Python 3",
   "language": "python",
   "name": "python3"
  },
  "language_info": {
   "codemirror_mode": {
    "name": "ipython",
    "version": 3
   },
   "file_extension": ".py",
   "mimetype": "text/x-python",
   "name": "python",
   "nbconvert_exporter": "python",
   "pygments_lexer": "ipython3",
   "version": "3.5.2"
  }
 },
 "nbformat": 4,
 "nbformat_minor": 2
}
